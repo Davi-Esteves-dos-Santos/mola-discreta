{
 "cells": [
  {
   "cell_type": "code",
   "execution_count": 24,
   "outputs": [],
   "source": [
    "import math\n",
    "import numpy as np\n",
    "import matplotlib.pyplot as plt\n",
    "import pandas as pd"
   ],
   "metadata": {
    "collapsed": false
   }
  },
  {
   "cell_type": "code",
   "execution_count": 10,
   "outputs": [],
   "source": [
    "m = 0.251  # mass in kg\n",
    "g = 9.8  # acceleration due to gravity in m/s^2\n",
    "k = 0.656  # constant in appropriate units\n"
   ],
   "metadata": {
    "collapsed": false
   }
  },
  {
   "cell_type": "code",
   "execution_count": 27,
   "metadata": {
    "collapsed": true
   },
   "outputs": [],
   "source": [
    "def f(x, L):\n",
    "    W = (m*g)/(k*L**2)\n",
    "    return math.cosh(W*x)*(1/W) - 1/W\n",
    "\n",
    "def calcL(azulejos):\n",
    "    return round(0.6*azulejos, 2)"
   ]
  },
  {
   "cell_type": "code",
   "execution_count": 30,
   "outputs": [
    {
     "data": {
      "text/plain": "     L         h\n0  0.6  0.998388\n1  1.2  0.572161\n2  1.8  0.512650\n3  2.4  0.493038\n4  3.0  0.484167\n5  3.6  0.479402\n6  4.2  0.476547\n7  4.8  0.474701",
      "text/html": "<div>\n<style scoped>\n    .dataframe tbody tr th:only-of-type {\n        vertical-align: middle;\n    }\n\n    .dataframe tbody tr th {\n        vertical-align: top;\n    }\n\n    .dataframe thead th {\n        text-align: right;\n    }\n</style>\n<table border=\"1\" class=\"dataframe\">\n  <thead>\n    <tr style=\"text-align: right;\">\n      <th></th>\n      <th>L</th>\n      <th>h</th>\n    </tr>\n  </thead>\n  <tbody>\n    <tr>\n      <th>0</th>\n      <td>0.6</td>\n      <td>0.998388</td>\n    </tr>\n    <tr>\n      <th>1</th>\n      <td>1.2</td>\n      <td>0.572161</td>\n    </tr>\n    <tr>\n      <th>2</th>\n      <td>1.8</td>\n      <td>0.512650</td>\n    </tr>\n    <tr>\n      <th>3</th>\n      <td>2.4</td>\n      <td>0.493038</td>\n    </tr>\n    <tr>\n      <th>4</th>\n      <td>3.0</td>\n      <td>0.484167</td>\n    </tr>\n    <tr>\n      <th>5</th>\n      <td>3.6</td>\n      <td>0.479402</td>\n    </tr>\n    <tr>\n      <th>6</th>\n      <td>4.2</td>\n      <td>0.476547</td>\n    </tr>\n    <tr>\n      <th>7</th>\n      <td>4.8</td>\n      <td>0.474701</td>\n    </tr>\n  </tbody>\n</table>\n</div>"
     },
     "execution_count": 30,
     "metadata": {},
     "output_type": "execute_result"
    }
   ],
   "source": [
    "results = [{'L': calcL(i), 'h': f(calcL(i/2), calcL(i))} for i in range(1, 9)]\n",
    "df = pd.DataFrame(results)\n",
    "df"
   ],
   "metadata": {
    "collapsed": false
   }
  },
  {
   "cell_type": "code",
   "execution_count": null,
   "outputs": [],
   "source": [],
   "metadata": {
    "collapsed": false
   }
  }
 ],
 "metadata": {
  "kernelspec": {
   "display_name": "Python 3",
   "language": "python",
   "name": "python3"
  },
  "language_info": {
   "codemirror_mode": {
    "name": "ipython",
    "version": 2
   },
   "file_extension": ".py",
   "mimetype": "text/x-python",
   "name": "python",
   "nbconvert_exporter": "python",
   "pygments_lexer": "ipython2",
   "version": "2.7.6"
  }
 },
 "nbformat": 4,
 "nbformat_minor": 0
}
