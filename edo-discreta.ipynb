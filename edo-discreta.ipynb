{
 "cells": [
  {
   "cell_type": "code",
   "execution_count": 294,
   "outputs": [],
   "source": [
    "import numpy as np\n",
    "from matplotlib import pyplot as plt\n",
    "import math"
   ],
   "metadata": {
    "collapsed": false
   }
  },
  {
   "cell_type": "code",
   "execution_count": 295,
   "outputs": [],
   "source": [
    "class Espira:\n",
    "    def __init__(self, i, N, k_i, m_i, l, L, g, t=0, x=0, y=0, v_x=0, v_y=0, resx=1000, resy=1000):\n",
    "        self.i = i      # Índice da espira\n",
    "        self.N = N      # Índice máximo\n",
    "        self.k_i = k_i  # Constante da elástica da espira\n",
    "        self.m_i = m_i  # Massa da espira\n",
    "        self.l = l      # Comprimento da espira\n",
    "        self.x = x      # Coordenada x\n",
    "        self.y = y      # Coordenada y\n",
    "        self.v_x = v_x  # Velocidade em x\n",
    "        self.v_y = v_y  # Velocidade em y\n",
    "        self.g = g      # gravidade\n",
    "        self.L = L      # tamanho do vão\n",
    "        self.t = 0      # tempo do sistema\n",
    "        self.resx = resx\n",
    "        self.resy = resy\n",
    "\n",
    "    def __repr__(self):\n",
    "        return (f\"Espira(i={self.i}, N={self.N}, k_i={self.k_i}, m_i={self.m_i}, l={self.l}, \"\n",
    "                f\"x={self.x}, y={self.y}, v_x={self.v_x}, v_y={self.v_y}\")\n",
    "\n",
    "    def derivadas_sistema_espira(self, t, espira_im1=None, espira_ip1=None, verbose=False):\n",
    "        dxdt = self.dxdt()\n",
    "        dydt = self.dydt()\n",
    "        dv_xdt = self.dv_xdt(t, getattr(espira_im1, 'x', None), getattr(espira_ip1, 'x', None))\n",
    "        dv_ydt = self.dv_ydt(t, getattr(espira_im1, 'y', None), getattr(espira_ip1, 'y', None))\n",
    "\n",
    "        if verbose:\n",
    "            print('------------')\n",
    "            print(f\"espira: {self.i}\")\n",
    "            print(f\"x = {self.x} + h*{dxdt}\")\n",
    "            print(f\"y = {self.y} + h*{dydt}\")\n",
    "            print(f\"v_x = {self.v_x} + h*{dv_xdt}\")\n",
    "            print(f\"v_y = {self.v_y} + h*{dv_ydt}\")\n",
    "            print('------------')\n",
    "\n",
    "        return [dxdt, dydt, dv_xdt, dv_ydt]\n",
    "\n",
    "    def dv_xdt(self, t, x_im1=None, x_ip1=None):\n",
    "        # a_x = k_i/m_i * (x_(i+1) - 2*x_i)           p/ i = 0\n",
    "        # a_x = k_i/m_i * (L - 2*x_i + x_(i-1))       p/ i = N-1\n",
    "        # a_x = k_i/m_i * (x_(i+1) - 2*x_i + x_(i-1)) caso contrario\n",
    "        if self.i == 0:\n",
    "            x_im1 = 0\n",
    "        elif self.i == self.N-1:\n",
    "            x_ip1 = self.L\n",
    "\n",
    "        v_hat = math.copysign(1, -self.v_x)\n",
    "        return (self.k_i / self.m_i) * (x_ip1 - (2*self.x) + x_im1) + (self.resx*self.v_x**2)*v_hat\n",
    "\n",
    "    def dxdt(self):\n",
    "        return self.v_x\n",
    "\n",
    "    def dv_ydt(self, t, y_im1=None, y_ip1=None):\n",
    "        # a_y = -g + k_i/m_i * (y_(i+1) - 2*y_i)           p/ i = 0\n",
    "        # a_y = -g + k_i/m_i * (2*y_i + y_(i-1))           p/ i = N-1\n",
    "        # a_y = -g + k_i/m_i * (y_(i+1) - 2*y_i + y_(i-1)) caso contrario\n",
    "\n",
    "        if self.i == 0:\n",
    "            y_im1 = 0\n",
    "        elif self.i == self.N-1:\n",
    "            y_ip1 = 0\n",
    "\n",
    "\n",
    "        v_hat = math.copysign(1, -self.v_y)\n",
    "        return -self.g + (self.k_i / self.m_i) * (y_ip1 - (2*self.y) + y_im1) + (self.resy*self.v_y**2)*v_hat\n",
    "\n",
    "    def dydt(self):\n",
    "        return self.v_y"
   ],
   "metadata": {
    "collapsed": false
   }
  },
  {
   "cell_type": "code",
   "execution_count": 296,
   "outputs": [],
   "source": [
    "class Mola:\n",
    "    def __init__(self, N, K, M, L, g, resx=1000, resy=1000):\n",
    "        self.N = N                  # Número de espiras\n",
    "        self.S = N+1                # Número de Molas\n",
    "        self.K = K                  # Constante elástica da mola\n",
    "        self.M = M                  # Massa da espira\n",
    "        self.L = L                  # tamanho do vão\n",
    "        self.l = self.L/self.S      # Comprimento da espira\n",
    "        self.k_i = K*self.S         # constante elástica das espiras\n",
    "        self.g = g                  # gravidade\n",
    "        self.m = M/self.N           # massa de uma epsira\n",
    "        self.espiras = []           # arrya de epsiras\n",
    "        self.resx = resx\n",
    "        self.resy = resy\n",
    "\n",
    "        self.instanciar_espiras()\n",
    "\n",
    "    def instanciar_espiras(self):\n",
    "        for idx in range(0, self.N):\n",
    "            self.espiras.append(\n",
    "                Espira(\n",
    "                    i=idx,\n",
    "                    N=self.N,\n",
    "                    k_i=self.k_i,\n",
    "                    m_i=self.m,\n",
    "                    l=self.l,\n",
    "                    L=self.L,\n",
    "                    g=self.g,\n",
    "                    t=0,\n",
    "                    x=self.l*(idx+1),\n",
    "                    y=0,\n",
    "                    v_x=0,\n",
    "                    v_y=0,\n",
    "                    resx=self.resx,\n",
    "                    resy=self.resy\n",
    "                )\n",
    "            )\n",
    "\n",
    "    def plotar_espiras(self, no_plot=False):\n",
    "        x_coords = [espira.x for espira in self.espiras]\n",
    "        y_coords = [espira.y for espira in self.espiras]\n",
    "\n",
    "        plt.scatter(x_coords, y_coords)\n",
    "        plt.xlabel('X')\n",
    "        plt.ylabel('Y')\n",
    "        plt.title('Posições das Espiras')\n",
    "\n",
    "        if no_plot:\n",
    "            plt.clf()\n",
    "        else:\n",
    "            plt.show()\n",
    "\n",
    "\n",
    "    def euler(self, t_0, t_final, step):\n",
    "        it = int((t_final-t_0)/step)\n",
    "        for t in np.linspace(t_0, t_final, it):\n",
    "            # self.plotar_espiras()\n",
    "            z_0 = np.array(self.valores_atuais())\n",
    "            dzdt = step*np.array(self.derivadas_sistema_mola(t))\n",
    "            z = z_0 + step*dzdt\n",
    "            self.atualizar_valores(z)\n",
    "\n",
    "\n",
    "    def valores_atuais(self):\n",
    "        vars = []\n",
    "        for espira in self.espiras:\n",
    "            vars += [espira.x, espira.y, espira.v_x, espira.v_y]\n",
    "        return vars\n",
    "\n",
    "    def atualizar_valores(self, z):\n",
    "        for espira in self.espiras:\n",
    "            idx = espira.i*4\n",
    "            espira.x = z[idx]\n",
    "            espira.y = z[idx+1]\n",
    "            espira.v_x = z[idx+2]\n",
    "            espira.v_y = z[idx+3]\n",
    "\n",
    "    def derivadas_sistema_mola(self, t):\n",
    "        z_ = []\n",
    "        idx = 0\n",
    "        for espira_im1, espira, espira_ip1 in zip([None] + self.espiras[:-1], self.espiras, self.espiras[1:] + [None]):\n",
    "            z_ += espira.derivadas_sistema_espira(t, espira_im1=espira_im1, espira_ip1=espira_ip1)\n",
    "            idx += 1\n",
    "\n",
    "        return z_"
   ],
   "metadata": {
    "collapsed": false
   }
  },
  {
   "cell_type": "code",
   "execution_count": 297,
   "outputs": [
    {
     "data": {
      "text/plain": "<Figure size 640x480 with 1 Axes>",
      "image/png": "[encoded data removed]"
     },
     "metadata": {},
     "output_type": "display_data"
    }
   ],
   "source": [
    "mola = Mola(N=100, K=0.656, M=0.251, L=L, g=9.8)\n",
    "mola.plotar_espiras()"
   ],
   "metadata": {
    "collapsed": false
   }
  },
  {
   "cell_type": "code",
   "execution_count": 308,
   "outputs": [
    {
     "name": "stderr",
     "output_type": "stream",
     "text": [
      "C:\\Users\\davi2\\AppData\\Local\\Temp\\ipykernel_17496\\569172616.py:66: RuntimeWarning: overflow encountered in scalar power\n",
      "  return -self.g + (self.k_i / self.m_i) * (y_ip1 - (2*self.y) + y_im1) + (self.resy*self.v_y**2)*v_hat\n"
     ]
    },
    {
     "data": {
      "text/plain": "<Figure size 640x480 with 1 Axes>",
      "image/png": "[encoded data removed]"
     },
     "metadata": {},
     "output_type": "display_data"
    },
    {
     "data": {
      "text/plain": "[Espira(i=0, N=10, k_i=11000, m_i=0.0251, l=0.43636363636363634, x=0.4363637465696874, y=-8.726947476969088e+183, v_x=0.00021876695819233587, v_y=inf,\n Espira(i=1, N=10, k_i=11000, m_i=0.0251, l=0.43636363636363634, x=0.8727272883616224, y=2.137448329353584e+213, v_x=-0.0004673388943824067, v_y=-inf,\n Espira(i=2, N=10, k_i=11000, m_i=0.0251, l=0.43636363636363634, x=1.3090903934751306, y=-2.8230344940179407e+142, v_x=0.0006893765437435992, v_y=3.187809501766052e+288,\n Espira(i=3, N=10, k_i=11000, m_i=0.0251, l=0.43636363636363634, x=1.7454558464805106, y=-6.719453957495621e+74, v_x=-0.0007740239661765584, v_y=1.8060424594761425e+153,\n Espira(i=4, N=10, k_i=11000, m_i=0.0251, l=0.43636363636363634, x=2.181816180904962, y=1.9290415806012045e+34, v_x=0.0006883940121015788, v_y=-1.4884805678753578e+72,\n Espira(i=5, N=10, k_i=11000, m_i=0.0251, l=0.43636363636363634, x=2.6181839569529357, y=1.929041580601175e+34, v_x=-0.0005540842102036394, v_y=-1.4884805678753113e+72,\n Espira(i=6, N=10, k_i=11000, m_i=0.0251, l=0.43636363636363634, x=3.0545439475615592, y=-6.719453957495716e+74, v_x=0.0005405341831089408, v_y=1.8060424594761928e+153,\n Espira(i=7, N=10, k_i=11000, m_i=0.0251, l=0.43636363636363634, x=3.490909516712422, y=-2.8230344940178876e+142, v_x=-0.0006618176889988583, v_y=3.1878095017659316e+288,\n Espira(i=8, N=10, k_i=11000, m_i=0.0251, l=0.43636363636363634, x=3.927273151799874, y=2.137448329353584e+213, v_x=0.0007182815375300082, v_y=-inf,\n Espira(i=9, N=10, k_i=11000, m_i=0.0251, l=0.43636363636363634, x=4.363635830338664, y=-8.726947476969088e+183, v_x=-0.0004923496216195763, v_y=inf]"
     },
     "execution_count": 308,
     "metadata": {},
     "output_type": "execute_result"
    }
   ],
   "source": [
    "azulejos=8\n",
    "L = 0.6*azulejos\n",
    "mola = Mola(N=10, K=0.656, M=0.251, L=L, g=9.8, resx=1000, resy=10)\n",
    "mola.euler(t_0=0, t_final=1000, step=0.05)\n",
    "mola.plotar_espiras()\n",
    "mola.espiras"
   ],
   "metadata": {
    "collapsed": false
   }
  },
  {
   "cell_type": "code",
   "execution_count": 299,
   "outputs": [],
   "source": [
    "def passo_euler(t, mola, step):\n",
    "    z_0 = np.array(mola.valores_atuais())\n",
    "    dzdt = step*np.array(mola.derivadas_sistema_mola(t))\n",
    "    z = z_0 + step*dzdt\n",
    "    mola.atualizar_valores(z)"
   ],
   "metadata": {
    "collapsed": false
   }
  },
  {
   "cell_type": "code",
   "execution_count": 300,
   "outputs": [],
   "source": [
    "# import matplotlib.animation as animation\n",
    "#\n",
    "# nome_animacao = 'teste'\n",
    "# segundos = 20\n",
    "# frames = segundos*30\n",
    "# step=0.05\n",
    "#\n",
    "# L = 0.6*8\n",
    "# mola = Mola(N=10, K=0.656, M=0.251, L=L, g=9.8)\n",
    "#\n",
    "# fig, ax = plt.subplots()\n",
    "# scat = ax.scatter([], [])\n",
    "# ax.set_xlim(0, L)  # Adjust as needed based on expected range\n",
    "# ax.set_ylim(-1, 0.2)  # Adjust as needed based on expected range\n",
    "# plt.show()\n",
    "#\n",
    "# def init():\n",
    "#     return scat,\n",
    "#\n",
    "# def animate(i):\n",
    "#     print(i, end='\\r')\n",
    "#     data = np.array([[espira.x, espira.y] for espira in mola.espiras])\n",
    "#     scat.set_offsets(data)\n",
    "#     mola.plotar_espiras(no_plot=True)\n",
    "#\n",
    "#     passo_euler(i, mola, step)\n",
    "#     return scat,\n",
    "#\n",
    "# anim = animation.FuncAnimation(\n",
    "#     fig,\n",
    "#     animate,\n",
    "#     init_func=init,\n",
    "#     frames=frames,\n",
    "#     blit=True,\n",
    "#     interval=30,\n",
    "# )\n",
    "#\n",
    "# anim.save(f'{nome_animacao}.mp4', writer='ffmpeg')"
   ],
   "metadata": {
    "collapsed": false
   }
  },
  {
   "cell_type": "code",
   "execution_count": 300,
   "outputs": [],
   "source": [],
   "metadata": {
    "collapsed": false
   }
  }
 ],
 "metadata": {
  "kernelspec": {
   "display_name": "Python 3",
   "language": "python",
   "name": "python3"
  },
  "language_info": {
   "codemirror_mode": {
    "name": "ipython",
    "version": 2
   },
   "file_extension": ".py",
   "mimetype": "text/x-python",
   "name": "python",
   "nbconvert_exporter": "python",
   "pygments_lexer": "ipython2",
   "version": "2.7.6"
  }
 },
 "nbformat": 4,
 "nbformat_minor": 0
}
